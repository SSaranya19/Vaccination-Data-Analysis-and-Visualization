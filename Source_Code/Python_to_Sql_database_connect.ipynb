{
 "cells": [
  {
   "cell_type": "markdown",
   "id": "a67cbdff-ca2c-4ea0-8dc7-c28ffc5b5091",
   "metadata": {},
   "source": [
    "## Connecting Python to MYSQL"
   ]
  },
  {
   "cell_type": "code",
   "execution_count": 3,
   "id": "e32adf18-7238-4f21-a420-f22503798ae6",
   "metadata": {},
   "outputs": [
    {
     "name": "stdout",
     "output_type": "stream",
     "text": [
      "Requirement already satisfied: pymysql in c:\\users\\dell\\anaconda3\\lib\\site-packages (1.1.1)\n"
     ]
    }
   ],
   "source": [
    "!pip install pymysql"
   ]
  },
  {
   "cell_type": "markdown",
   "id": "84d85d0a-16a5-4630-b6e2-3c509e018c90",
   "metadata": {},
   "source": [
    "## Creating MYSQL Database"
   ]
  },
  {
   "cell_type": "code",
   "execution_count": 33,
   "id": "15d26b33-c11d-420a-a81c-489398d68953",
   "metadata": {},
   "outputs": [
    {
     "name": "stdout",
     "output_type": "stream",
     "text": [
      "Database created successfully.\n"
     ]
    }
   ],
   "source": [
    "import pymysql\n",
    "\n",
    "host = \"localhost\"\n",
    "user = \"root\"\n",
    "password = \"userpassword\"\n",
    "\n",
    "try:\n",
    "    conn = pymysql.connect(\n",
    "        host=host,\n",
    "        user=user,\n",
    "        password=password\n",
    "    )\n",
    "    cursor = conn.cursor()\n",
    "\n",
    "    \n",
    "    cursor.execute(f\"CREATE DATABASE IF NOT EXISTS vaccination_data_analysis\")\n",
    "    conn.commit()\n",
    "    print(\"Database created successfully.\")\n",
    "\n",
    "except pymysql.Error as e:\n",
    "    print(f\"Error creating database: {e}\")\n",
    "finally:\n",
    "    conn.close()"
   ]
  },
  {
   "cell_type": "markdown",
   "id": "35860114-ff7c-48db-b29e-01ae91c5cb94",
   "metadata": {},
   "source": [
    "### Creating Tables"
   ]
  },
  {
   "cell_type": "code",
   "execution_count": 35,
   "id": "36c21bfa-718d-411c-8194-7c65b07276fe",
   "metadata": {},
   "outputs": [
    {
     "name": "stdout",
     "output_type": "stream",
     "text": [
      "Tables created successfully.\n"
     ]
    }
   ],
   "source": [
    "host = \"localhost\"\n",
    "user = \"root\"\n",
    "password = \"userpassword\"\n",
    "database = \"vaccination_data_analysis\"\n",
    "\n",
    "try:\n",
    "    conn = pymysql.connect(\n",
    "        host=host,\n",
    "        user=user,\n",
    "        password=password,\n",
    "        database=database\n",
    "    )\n",
    "    cursor = conn.cursor()\n",
    "\n",
    "    # Table 1: Coverage Data\n",
    "    create_coverage_table = \"\"\"\n",
    "    CREATE TABLE Coverage (\n",
    "        `GROUP` VARCHAR(255),\n",
    "        CODE VARCHAR(100),\n",
    "        NAME VARCHAR(255),\n",
    "        YEAR INT,\n",
    "        ANTIGEN VARCHAR(255),\n",
    "        ANTIGEN_DESCRIPTION TEXT,\n",
    "        COVERAGE_CATEGORY VARCHAR(255),\n",
    "        COVERAGE_CATEGORY_DESCRIPTION TEXT,\n",
    "        TARGET_NUMBER INT,\n",
    "        DOSES INT,\n",
    "        COVERAGE FLOAT\n",
    "    );\n",
    "    \"\"\"\n",
    "    cursor.execute(create_coverage_table)\n",
    "\n",
    "    # Table 2: Incidence Rate\n",
    "    create_incidence_rate_table = \"\"\"\n",
    "    CREATE TABLE IncidenceRate (\n",
    "        `GROUP` VARCHAR(255),\n",
    "        CODE VARCHAR(100),\n",
    "        NAME VARCHAR(255),\n",
    "        YEAR INT,\n",
    "        DISEASE VARCHAR(255),\n",
    "        DISEASE_DESCRIPTION TEXT,\n",
    "        DENOMINATOR VARCHAR(255),\n",
    "        INCIDENCE_RATE FLOAT\n",
    "    );\n",
    "    \"\"\"\n",
    "    cursor.execute(create_incidence_rate_table)\n",
    "\n",
    "    # Table 3: Reported Cases\n",
    "    create_reported_cases_table = \"\"\"\n",
    "    CREATE TABLE ReportedCases (\n",
    "        `GROUP` VARCHAR(255),\n",
    "        CODE VARCHAR(100),\n",
    "        NAME VARCHAR(255),\n",
    "        YEAR INT,\n",
    "        DISEASE VARCHAR(255),\n",
    "        DISEASE_DESCRIPTION TEXT,\n",
    "        CASES INT\n",
    "    );\n",
    "    \"\"\"\n",
    "    cursor.execute(create_reported_cases_table)\n",
    "\n",
    "    # Table 4: Vaccine Introduction\n",
    "    create_vaccine_introduction_table = \"\"\"\n",
    "    CREATE TABLE VaccineIntroduction (\n",
    "        ISO_3_CODE VARCHAR(100),\n",
    "        COUNTRYNAME VARCHAR(255),\n",
    "        WHO_REGION VARCHAR(255),\n",
    "        YEAR INT,\n",
    "        DESCRIPTION TEXT,\n",
    "        INTRO VARCHAR(100)\n",
    "    );\n",
    "    \"\"\"\n",
    "    cursor.execute(create_vaccine_introduction_table)\n",
    "\n",
    "    # Table 5: Vaccine Schedule\n",
    "    create_vaccine_schedule_table = \"\"\"\n",
    "    CREATE TABLE VaccineSchedule (\n",
    "        ISO_3_CODE VARCHAR(100),\n",
    "        COUNTRYNAME VARCHAR(255),\n",
    "        WHO_REGION VARCHAR(255),\n",
    "        YEAR INT,\n",
    "        VACCINECODE VARCHAR(255),\n",
    "        VACCINE_DESCRIPTION TEXT,\n",
    "        SCHEDULEROUNDS INT,\n",
    "        TARGETPOP VARCHAR(255),\n",
    "        TARGETPOP_DESCRIPTION TEXT,\n",
    "        GEOAREA VARCHAR(100),\n",
    "        AGEADMINISTERED VARCHAR(255),\n",
    "        SOURCECOMMENT TEXT\n",
    "    );\n",
    "    \"\"\"\n",
    "    cursor.execute(create_vaccine_schedule_table)\n",
    "\n",
    "    conn.commit()\n",
    "    print(\"Tables created successfully.\")\n",
    "\n",
    "except pymysql.Error as e:\n",
    "    print(f\"Error creating tables: {e}\")\n",
    "\n",
    "finally:\n",
    "    conn.close()"
   ]
  },
  {
   "cell_type": "markdown",
   "id": "807ea899-5caf-4be9-98b9-8a1f5b5538c5",
   "metadata": {},
   "source": [
    "### Import Data from Excel"
   ]
  },
  {
   "cell_type": "code",
   "execution_count": 37,
   "id": "2d64b983-5dd1-4b78-b6a0-f61ebd81486c",
   "metadata": {},
   "outputs": [
    {
     "name": "stdout",
     "output_type": "stream",
     "text": [
      "Data imported successfully from clean_coverage_data.xlsx to Coverage\n",
      "Data imported successfully from clean_incidence_rate_data.xlsx to IncidenceRate\n",
      "Data imported successfully from clean_reported_cases_data.xlsx to ReportedCases\n",
      "Data imported successfully from clean_vaccine_introduction_data.xlsx to VaccineIntroduction\n",
      "Data imported successfully from clean_vaccine_schedule_data.xlsx to VaccineSchedule\n"
     ]
    }
   ],
   "source": [
    "import pandas as pd\n",
    "\n",
    "host = \"localhost\"\n",
    "user = \"root\"\n",
    "password = \"userpassword\"\n",
    "database = \"vaccination_data_analysis\"\n",
    "\n",
    "def import_data_from_excel(file_path, table_name):\n",
    "    try:\n",
    "        conn = pymysql.connect(\n",
    "            host=host,\n",
    "            user=user,\n",
    "            password=password,\n",
    "            database=database\n",
    "        )\n",
    "        cursor = conn.cursor()\n",
    "\n",
    "        df = pd.read_excel(file_path)\n",
    "        for index, row in df.iterrows():\n",
    "            values = tuple(row)\n",
    "            sql = f\"INSERT INTO {table_name} VALUES {values}\"\n",
    "            cursor.execute(sql)\n",
    "        conn.commit()\n",
    "        print(f\"Data imported successfully from {file_path} to {table_name}\")\n",
    "\n",
    "    except Exception as e:\n",
    "        print(f\"Error importing data from {file_path}: {e}\")\n",
    "\n",
    "    finally:\n",
    "        conn.close()\n",
    "\n",
    "# file path\n",
    "coverage_file = \"clean_coverage_data.xlsx\"\n",
    "incidence_rate_file = \"clean_incidence_rate_data.xlsx\"\n",
    "reported_cases_file = \"clean_reported_cases_data.xlsx\"\n",
    "vaccine_introduction_file = \"clean_vaccine_introduction_data.xlsx\"\n",
    "vaccine_schedule_file = \"clean_vaccine_schedule_data.xlsx\"\n",
    "\n",
    "import_data_from_excel(coverage_file, \"Coverage\")\n",
    "import_data_from_excel(incidence_rate_file, \"IncidenceRate\")\n",
    "import_data_from_excel(reported_cases_file, \"ReportedCases\")\n",
    "import_data_from_excel(vaccine_introduction_file, \"VaccineIntroduction\")\n",
    "import_data_from_excel(vaccine_schedule_file, \"VaccineSchedule\")"
   ]
  },
  {
   "cell_type": "markdown",
   "id": "1ca1077f-582c-488e-aec9-67eafc665b4b",
   "metadata": {},
   "source": [
    "### Normalization"
   ]
  },
  {
   "cell_type": "markdown",
   "id": "2465e16e-3338-4f63-b94c-9073f12239fc",
   "metadata": {},
   "source": [
    "To creating separate tables for countries, diseases, years, WHO_Region to avoid redundancy and improve querying performance."
   ]
  },
  {
   "cell_type": "code",
   "execution_count": 39,
   "id": "9b1bdc3e-30a2-42e0-a234-5ee6536bd1ca",
   "metadata": {},
   "outputs": [
    {
     "name": "stdout",
     "output_type": "stream",
     "text": [
      "Countries table populated successfully.\n"
     ]
    }
   ],
   "source": [
    "host = \"localhost\"\n",
    "user = \"root\"\n",
    "password = \"userpassword\"\n",
    "database = \"vaccination_data_analysis\"\n",
    "\n",
    "try:\n",
    "    conn = pymysql.connect(\n",
    "        host=host,\n",
    "        user=user,\n",
    "        password=password,\n",
    "        database=database\n",
    "    )\n",
    "    cursor = conn.cursor()\n",
    "\n",
    "    # Creating Countries table\n",
    "    create_countries_table = \"\"\"\n",
    "    CREATE TABLE Countries (\n",
    "        `GROUP` VARCHAR(255),\n",
    "        CODE VARCHAR(100),\n",
    "        NAME VARCHAR(255),\n",
    "        PRIMARY KEY (CODE) \n",
    "    );\n",
    "    \"\"\"\n",
    "    cursor.execute(create_countries_table)\n",
    "\n",
    "    # Insert unique country data from Coverage table\n",
    "    insert_countries_from_coverage = \"\"\"\n",
    "    INSERT IGNORE INTO Countries (`GROUP`, CODE, NAME)\n",
    "    SELECT DISTINCT `GROUP`, CODE, NAME \n",
    "    FROM Coverage;\n",
    "    \"\"\"\n",
    "    cursor.execute(insert_countries_from_coverage)\n",
    "\n",
    "    conn.commit()\n",
    "    print(\"Countries table populated successfully.\")\n",
    "\n",
    "except pymysql.Error as e:\n",
    "    print(f\"Error populating Countries table: {e}\")\n",
    "\n",
    "finally:\n",
    "    conn.close()"
   ]
  },
  {
   "cell_type": "code",
   "execution_count": 41,
   "id": "e1f8ce4b-9fad-439c-9049-db77660b8ae7",
   "metadata": {},
   "outputs": [
    {
     "name": "stdout",
     "output_type": "stream",
     "text": [
      "Years table populated successfully.\n"
     ]
    }
   ],
   "source": [
    "host = \"localhost\"\n",
    "user = \"root\"\n",
    "password = \"userpassword\"\n",
    "database = \"vaccination_data_analysis\"\n",
    "\n",
    "try:\n",
    "    conn = pymysql.connect(\n",
    "        host=host,\n",
    "        user=user,\n",
    "        password=password,\n",
    "        database=database\n",
    "    )\n",
    "    cursor = conn.cursor()\n",
    "\n",
    "    # Create Years table\n",
    "    create_years_table = \"\"\"\n",
    "    CREATE TABLE Years (\n",
    "        YEAR INT PRIMARY KEY\n",
    "    );\n",
    "    \"\"\"\n",
    "    cursor.execute(create_years_table)\n",
    "\n",
    "    # Insert unique years from vaccineintroduction table\n",
    "    insert_years_from_vaccineintroduction = \"\"\"\n",
    "    INSERT IGNORE INTO Years (YEAR)\n",
    "    SELECT DISTINCT YEAR \n",
    "    FROM VaccineIntroduction;\n",
    "    \"\"\"\n",
    "    cursor.execute(insert_years_from_vaccineintroduction)\n",
    "\n",
    "    conn.commit()\n",
    "    print(\"Years table populated successfully.\")\n",
    "\n",
    "except pymysql.Error as e:\n",
    "    print(f\"Error populating Years table: {e}\")\n",
    "\n",
    "finally:\n",
    "    conn.close()"
   ]
  },
  {
   "cell_type": "code",
   "execution_count": 43,
   "id": "e4ee9001-c214-4a11-95b4-a9313985d504",
   "metadata": {},
   "outputs": [
    {
     "name": "stdout",
     "output_type": "stream",
     "text": [
      "Diseases table populated successfully.\n"
     ]
    }
   ],
   "source": [
    "host = \"localhost\"\n",
    "user = \"root\"\n",
    "password = \"userpassword\"\n",
    "database = \"vaccination_data_analysis\"\n",
    "\n",
    "try:\n",
    "    conn = pymysql.connect(\n",
    "        host=host,\n",
    "        user=user,\n",
    "        password=password,\n",
    "        database=database\n",
    "    )\n",
    "    cursor = conn.cursor()\n",
    "\n",
    "    # Create Diseases table\n",
    "    create_diseases_table = \"\"\"\n",
    "    CREATE TABLE Diseases (\n",
    "        DISEASE VARCHAR(255) PRIMARY KEY,\n",
    "        DISEASE_DESCRIPTION TEXT\n",
    "    );\n",
    "    \"\"\"\n",
    "    cursor.execute(create_diseases_table)\n",
    "\n",
    "    # Insert unique diseases from IncidenceRate table\n",
    "    insert_diseases_from_incidencerate = \"\"\"\n",
    "    INSERT IGNORE INTO Diseases (DISEASE, DISEASE_DESCRIPTION)\n",
    "    SELECT DISTINCT DISEASE, DISEASE_DESCRIPTION \n",
    "    FROM IncidenceRate;\n",
    "    \"\"\"\n",
    "    cursor.execute(insert_diseases_from_incidencerate)\n",
    "\n",
    "    conn.commit()\n",
    "    print(\"Diseases table populated successfully.\")\n",
    "\n",
    "except pymysql.Error as e:\n",
    "    print(f\"Error populating Diseases table: {e}\")\n",
    "\n",
    "finally:\n",
    "    conn.close()"
   ]
  },
  {
   "cell_type": "code",
   "execution_count": 45,
   "id": "45c85b32-999a-4039-9fdf-6a8682b25747",
   "metadata": {},
   "outputs": [
    {
     "name": "stdout",
     "output_type": "stream",
     "text": [
      "WHO_Region table populated successfully.\n"
     ]
    }
   ],
   "source": [
    "host = \"localhost\"\n",
    "user = \"root\"\n",
    "password = \"userpassword\"\n",
    "database = \"vaccination_data_analysis\"\n",
    "\n",
    "try:\n",
    "    conn = pymysql.connect(\n",
    "        host=host,\n",
    "        user=user,\n",
    "        password=password,\n",
    "        database=database\n",
    "    )\n",
    "    cursor = conn.cursor()\n",
    "\n",
    "    # Create WHO_Region table\n",
    "    create_who_region_table = \"\"\"\n",
    "    CREATE TABLE WHO_Region (\n",
    "        ISO_3_CODE VARCHAR(100),\n",
    "        COUNTRYNAME VARCHAR(255),\n",
    "        WHO_REGION VARCHAR(255),\n",
    "        PRIMARY KEY (ISO_3_CODE, COUNTRYNAME) \n",
    "    );\n",
    "    \"\"\"\n",
    "    cursor.execute(create_who_region_table)\n",
    "\n",
    "    # Insert unique WHO_Region data from VaccineSchedule table\n",
    "    insert_who_region_from_VaccineSchedule = \"\"\"\n",
    "    INSERT IGNORE INTO WHO_Region (ISO_3_CODE, COUNTRYNAME, WHO_REGION)\n",
    "    SELECT DISTINCT ISO_3_CODE, COUNTRYNAME, WHO_REGION \n",
    "    FROM VaccineSchedule;\n",
    "    \"\"\"\n",
    "    cursor.execute(insert_who_region_from_VaccineSchedule)\n",
    "\n",
    "    conn.commit()\n",
    "    print(\"WHO_Region table populated successfully.\")\n",
    "\n",
    "except pymysql.Error as e:\n",
    "    print(f\"Error populating WHO_Region table: {e}\")\n",
    "\n",
    "finally:\n",
    "    conn.close()"
   ]
  },
  {
   "cell_type": "code",
   "execution_count": 47,
   "id": "2b8cf772-f20d-45fb-bdc0-81994e2881d4",
   "metadata": {},
   "outputs": [
    {
     "name": "stdout",
     "output_type": "stream",
     "text": [
      "Primary and foreign keys added successfully.\n"
     ]
    }
   ],
   "source": [
    "host = \"localhost\"\n",
    "user = \"root\"\n",
    "password = \"userpassword\"\n",
    "database = \"vaccination_data_analysis\"\n",
    "\n",
    "try:\n",
    "    conn = pymysql.connect(\n",
    "        host=host,\n",
    "        user=user,\n",
    "        password=password,\n",
    "        database=database\n",
    "    )\n",
    "    cursor = conn.cursor()\n",
    "    \n",
    "    # Add primary and foreign keys to Coverage table\n",
    "    alter_coverage_table = \"\"\"\n",
    "    ALTER TABLE Coverage\n",
    "    ADD FOREIGN KEY (CODE) REFERENCES Countries(CODE), \n",
    "    ADD FOREIGN KEY (YEAR) REFERENCES Years(YEAR);\n",
    "    \"\"\"\n",
    "    cursor.execute(alter_coverage_table)\n",
    "\n",
    "    # Add primary and foreign keys to IncidenceRate table\n",
    "    alter_incidencerate_table = \"\"\"\n",
    "    ALTER TABLE IncidenceRate\n",
    "    ADD FOREIGN KEY (CODE) REFERENCES Countries(CODE),\n",
    "    ADD FOREIGN KEY (DISEASE) REFERENCES Diseases(DISEASE),\n",
    "    ADD FOREIGN KEY (YEAR) REFERENCES Years(YEAR);\n",
    "    \"\"\"\n",
    "    cursor.execute(alter_incidencerate_table)\n",
    "\n",
    "    # Add primary and foreign keys to ReportedCases table\n",
    "    alter_reportedcases_table = \"\"\"\n",
    "    ALTER TABLE ReportedCases\n",
    "    ADD FOREIGN KEY (CODE) REFERENCES Countries(CODE),\n",
    "    ADD FOREIGN KEY (DISEASE) REFERENCES Diseases(DISEASE),\n",
    "    ADD FOREIGN KEY (YEAR) REFERENCES Years(YEAR);\n",
    "    \"\"\"\n",
    "    cursor.execute(alter_reportedcases_table)\n",
    "\n",
    "    # Add primary and foreign keys to VaccineIntroduction table\n",
    "    alter_vaccineintroduction_table = \"\"\"\n",
    "    ALTER TABLE VaccineIntroduction\n",
    "    ADD FOREIGN KEY (ISO_3_CODE, COUNTRYNAME) REFERENCES WHO_Region(ISO_3_CODE, COUNTRYNAME), \n",
    "    ADD FOREIGN KEY (YEAR) REFERENCES Years(YEAR); \n",
    "    \"\"\"\n",
    "    cursor.execute(alter_vaccineintroduction_table)\n",
    "\n",
    "    # Add primary and foreign keys to VaccineSchedule table\n",
    "    alter_vaccineschedule_table = \"\"\"\n",
    "    ALTER TABLE VaccineSchedule\n",
    "    ADD FOREIGN KEY (ISO_3_CODE, COUNTRYNAME) REFERENCES WHO_Region(ISO_3_CODE, COUNTRYNAME), \n",
    "    ADD FOREIGN KEY (YEAR) REFERENCES Years(YEAR); \n",
    "    \"\"\"\n",
    "    cursor.execute(alter_vaccineschedule_table)\n",
    "\n",
    "    conn.commit()\n",
    "    print(\"Primary and foreign keys added successfully.\")\n",
    "\n",
    "except pymysql.Error as e:\n",
    "    print(f\"Error adding primary and foreign keys: {e}\")\n",
    "\n",
    "finally:\n",
    "    conn.close()"
   ]
  },
  {
   "cell_type": "markdown",
   "id": "cd6220ab-acee-4153-870c-f0d3897f1c0b",
   "metadata": {},
   "source": [
    "### Dropping Duplicate Columns from the Main Tables, as Foreign Key has been established"
   ]
  },
  {
   "cell_type": "code",
   "execution_count": 52,
   "id": "0bbb3ecc-8ded-465d-9830-4b92be6b5116",
   "metadata": {},
   "outputs": [
    {
     "name": "stdout",
     "output_type": "stream",
     "text": [
      "Executed: ALTER TABLE Coverage DROP COLUMN NAME, DROP COLUMN `GROUP`;\n",
      "Executed: ALTER TABLE IncidenceRate DROP COLUMN NAME, DROP COLUMN `GROUP`;\n",
      "Executed: ALTER TABLE IncidenceRate DROP COLUMN DISEASE_DESCRIPTION;\n",
      "Executed: ALTER TABLE ReportedCases DROP COLUMN NAME, DROP COLUMN `GROUP`;\n",
      "Executed: ALTER TABLE ReportedCases DROP COLUMN DISEASE_DESCRIPTION;\n",
      "Skipping column drop: ALTER TABLE VaccineIntroduction DROP COLUMN COUNTRYNAME, DROP COLUMN WHO_REGION; - Error: (1828, \"Cannot drop column 'COUNTRYNAME': needed in a foreign key constraint 'vaccineintroduction_ibfk_1'\")\n",
      "Skipping column drop: ALTER TABLE VaccineSchedule DROP COLUMN COUNTRYNAME, DROP COLUMN WHO_REGION; - Error: (1828, \"Cannot drop column 'COUNTRYNAME': needed in a foreign key constraint 'vaccineschedule_ibfk_1'\")\n",
      "Duplicate columns dropped successfully where applicable.\n"
     ]
    }
   ],
   "source": [
    "host = \"localhost\"\n",
    "user = \"root\"\n",
    "password = \"userpassword\"\n",
    "database = \"vaccination_data_analysis\"\n",
    "\n",
    "try:\n",
    "    conn = pymysql.connect(\n",
    "        host=host,\n",
    "        user=user,\n",
    "        password=password,\n",
    "        database=database\n",
    "    )\n",
    "    cursor = conn.cursor()\n",
    "    \n",
    "    \n",
    "    drop_columns_queries = [\n",
    "        # Drop duplicate columns from Coverage\n",
    "        \"ALTER TABLE Coverage DROP COLUMN NAME, DROP COLUMN `GROUP`;\",\n",
    "        # Drop duplicate columns from IncidenceRate\n",
    "        \"ALTER TABLE IncidenceRate DROP COLUMN NAME, DROP COLUMN `GROUP`;\",\n",
    "        \"ALTER TABLE IncidenceRate DROP COLUMN DISEASE_DESCRIPTION;\",\n",
    "        # Drop duplicate columns from ReportedCases\n",
    "        \"ALTER TABLE ReportedCases DROP COLUMN NAME, DROP COLUMN `GROUP`;\",\n",
    "        \"ALTER TABLE ReportedCases DROP COLUMN DISEASE_DESCRIPTION;\",\n",
    "        # Drop duplicate columns from VaccineIntroduction\n",
    "        \"ALTER TABLE VaccineIntroduction DROP COLUMN COUNTRYNAME, DROP COLUMN WHO_REGION;\",\n",
    "        # Drop duplicate columns from VaccineSchedule\n",
    "        \"ALTER TABLE VaccineSchedule DROP COLUMN COUNTRYNAME, DROP COLUMN WHO_REGION;\"\n",
    "    ]\n",
    "    for query in drop_columns_queries:\n",
    "        try:\n",
    "            cursor.execute(query)\n",
    "            print(f\"Executed: {query.strip()}\")\n",
    "        except pymysql.Error as e:\n",
    "            print(f\"Skipping column drop: {query.strip()} - Error: {e}\")\n",
    "\n",
    "    conn.commit()\n",
    "    print(\"Duplicate columns dropped successfully where applicable.\")\n",
    "\n",
    "except pymysql.Error as e:\n",
    "    print(f\"Error processing the database: {e}\")\n",
    "\n",
    "finally:\n",
    "    conn.close()"
   ]
  },
  {
   "cell_type": "code",
   "execution_count": 54,
   "id": "b07f10a9-ee49-486f-95d7-981de4dc9b51",
   "metadata": {},
   "outputs": [
    {
     "name": "stdout",
     "output_type": "stream",
     "text": [
      "Executed: ALTER TABLE VaccineIntroduction DROP COLUMN WHO_REGION;\n",
      "Executed: ALTER TABLE VaccineSchedule DROP COLUMN WHO_REGION;\n",
      "Duplicate columns dropped successfully where applicable.\n"
     ]
    }
   ],
   "source": [
    "try:\n",
    "    conn = pymysql.connect(\n",
    "        host=host,\n",
    "        user=user,\n",
    "        password=password,\n",
    "        database=database\n",
    "    )\n",
    "    cursor = conn.cursor()\n",
    "    \n",
    "    \n",
    "    drop_columns_queries = [\n",
    "        # Drop duplicate columns from VaccineIntroduction\n",
    "        \"ALTER TABLE VaccineIntroduction DROP COLUMN WHO_REGION;\",\n",
    "        # Drop duplicate columns from VaccineSchedule\n",
    "        \"ALTER TABLE VaccineSchedule DROP COLUMN WHO_REGION;\"\n",
    "    ]\n",
    "    for query in drop_columns_queries:\n",
    "        try:\n",
    "            cursor.execute(query)\n",
    "            print(f\"Executed: {query.strip()}\")\n",
    "        except pymysql.Error as e:\n",
    "            print(f\"Skipping column drop: {query.strip()} - Error: {e}\")\n",
    "\n",
    "    conn.commit()\n",
    "    print(\"Duplicate columns dropped successfully where applicable.\")\n",
    "\n",
    "except pymysql.Error as e:\n",
    "    print(f\"Error processing the database: {e}\")\n",
    "\n",
    "finally:\n",
    "    conn.close()"
   ]
  },
  {
   "cell_type": "code",
   "execution_count": null,
   "id": "81c7f309-5a02-41bb-81e6-a16b3edb76bc",
   "metadata": {},
   "outputs": [],
   "source": []
  }
 ],
 "metadata": {
  "kernelspec": {
   "display_name": "Python 3 (ipykernel)",
   "language": "python",
   "name": "python3"
  },
  "language_info": {
   "codemirror_mode": {
    "name": "ipython",
    "version": 3
   },
   "file_extension": ".py",
   "mimetype": "text/x-python",
   "name": "python",
   "nbconvert_exporter": "python",
   "pygments_lexer": "ipython3",
   "version": "3.12.4"
  }
 },
 "nbformat": 4,
 "nbformat_minor": 5
}
